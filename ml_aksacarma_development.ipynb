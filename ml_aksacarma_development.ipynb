{
  "cells": [
    {
      "attachments": {},
      "cell_type": "markdown",
      "metadata": {
        "id": "FmyZpU0cJicj"
      },
      "source": [
        "# Aksacarma Machine Learning\n",
        "This notebook run on Google Colab with Python 3.10.12, Tensorflow 2.12.0, and Keras 2.12.0"
      ]
    },
    {
      "cell_type": "code",
      "execution_count": null,
      "metadata": {
        "colab": {
          "base_uri": "https://localhost:8080/"
        },
        "id": "MrXnk58dKC9-",
        "outputId": "87f8f154-90ed-4ae1-aec2-7c48ebbefbcd"
      },
      "outputs": [],
      "source": [
        "# Run this cell to check Python version\n",
        "!python --version"
      ]
    },
    {
      "cell_type": "code",
      "execution_count": null,
      "metadata": {
        "colab": {
          "base_uri": "https://localhost:8080/"
        },
        "id": "kwPTuo7DLLpF",
        "outputId": "3b4fc5fc-514c-4b37-beca-ecbe1532cf7e"
      },
      "outputs": [],
      "source": [
        "# Run this cell to check Tensorflow version\n",
        "import tensorflow as tf\n",
        "print(tf.__version__)"
      ]
    },
    {
      "cell_type": "code",
      "execution_count": null,
      "metadata": {
        "colab": {
          "base_uri": "https://localhost:8080/"
        },
        "id": "jWKs2AoCLP7m",
        "outputId": "2907aeae-7513-4ce0-f68b-b9e607f5603c"
      },
      "outputs": [],
      "source": [
        "# Run this cell to check Keras version\n",
        "import keras\n",
        "print(keras.__version__)"
      ]
    },
    {
      "attachments": {},
      "cell_type": "markdown",
      "metadata": {
        "id": "GHhLjJXT9T07"
      },
      "source": [
        "## Get The Data\n",
        "The data to be used is **Dermnet**, obtained from https://www.kaggle.com/datasets/shubhamgoel27/dermnet.\n",
        "\n",
        "This section only needs to be run once.\n",
        "This section will download the data from kaggle and standardize the dataset folder name."
      ]
    },
    {
      "cell_type": "code",
      "execution_count": null,
      "metadata": {
        "colab": {
          "base_uri": "https://localhost:8080/"
        },
        "id": "O_qLAcQp7fBA",
        "outputId": "55d3bdc7-1922-4317-b109-504f279da7b5"
      },
      "outputs": [],
      "source": [
        "# opendatasets is a Python library for downloading datasets from online sources like Kaggle.\n",
        "# Follow this link for details, https://pypi.org/project/opendatasets/\n",
        "%pip install opendatasets"
      ]
    },
    {
      "attachments": {},
      "cell_type": "markdown",
      "metadata": {
        "id": "cui4xIM7YPJi"
      },
      "source": [
        "### Import Required Libraries"
      ]
    },
    {
      "cell_type": "code",
      "execution_count": null,
      "metadata": {
        "id": "s6ZzKZ987_6V"
      },
      "outputs": [],
      "source": [
        "# Import required libraries\n",
        "import opendatasets as od\n",
        "import os\n",
        "import shutil\n",
        "from shutil import copyfile\n",
        "import random\n",
        "\n",
        "import tensorflow as tf\n",
        "from tensorflow.keras.preprocessing.image import ImageDataGenerator\n",
        "from tensorflow.keras.optimizers import RMSprop\n",
        "from tensorflow import keras\n",
        "\n",
        "import matplotlib.pyplot as plt # matplotlib 3.7.1"
      ]
    },
    {
      "attachments": {},
      "cell_type": "markdown",
      "metadata": {
        "id": "1WrrB9pXM88e"
      },
      "source": [
        "### Download Dataset"
      ]
    },
    {
      "cell_type": "code",
      "execution_count": null,
      "metadata": {
        "colab": {
          "base_uri": "https://localhost:8080/",
          "height": 381
        },
        "id": "RZGUGyYA8OHq",
        "outputId": "9fad5cd7-3859-4c2f-febe-ac4e4182bcbf"
      },
      "outputs": [],
      "source": [
        "# Run this cell to download dataset\n",
        "dataset_url = \"https://www.kaggle.com/datasets/shubhamgoel27/dermnet\"\n",
        "od.download(dataset_url)"
      ]
    },
    {
      "cell_type": "code",
      "execution_count": null,
      "metadata": {
        "id": "mjzn43tm-POM"
      },
      "outputs": [],
      "source": [
        "# Define the Dermnet dataset path\n",
        "source_dir = \"./dermnet\"\n",
        "source_dir_train = os.path.join(source_dir, \"train\")\n",
        "source_dir_test = os.path.join(source_dir, \"test\")"
      ]
    },
    {
      "attachments": {},
      "cell_type": "markdown",
      "metadata": {
        "id": "Zdt5wYqd2BRv"
      },
      "source": [
        " ### Standardize The Dataset Folder Name"
      ]
    },
    {
      "cell_type": "code",
      "execution_count": null,
      "metadata": {
        "id": "MYEb7vxFzmCe"
      },
      "outputs": [],
      "source": [
        "# Standariz name folder\n",
        "# This cell will remove word \"Photos\" and change \" \" with \"-\"\n",
        "def standerize_name(fn):\n",
        "  fn = fn.lower().replace(\"photos\", \"\")\n",
        "  fn = \" \".join(fn.split())\n",
        "  return fn.replace(\" \", \"-\")"
      ]
    },
    {
      "cell_type": "code",
      "execution_count": null,
      "metadata": {
        "id": "pNDbltAD01gi"
      },
      "outputs": [],
      "source": [
        "# Correct all name folder with standariz name folder in main folder\n",
        "def correct_name(main_folder_dir):\n",
        "  old_dir_list = os.listdir(main_folder_dir)\n",
        "  new_dir_list = [standeriz_name(fn) for fn in old_dir_list]\n",
        "  for i in range(len(old_dir_list)):\n",
        "    old_name = os.path.join(main_folder_dir, old_dir_list[i])\n",
        "    new_name = os.path.join(main_folder_dir, new_dir_list[i])\n",
        "    os.rename(old_name, new_name)\n"
      ]
    },
    {
      "cell_type": "code",
      "execution_count": null,
      "metadata": {
        "colab": {
          "base_uri": "https://localhost:8080/",
          "height": 322
        },
        "id": "Gmj311_-1puO",
        "outputId": "14680503-bd02-48d9-8483-307df046cf6f"
      },
      "outputs": [],
      "source": [
        "# Correct folder name in \"./dermnet/train\" and \"./dermnet/test\"\n",
        "correct_name(source_dir_train)\n",
        "correct_name(source_dir_test)"
      ]
    },
    {
      "attachments": {},
      "cell_type": "markdown",
      "metadata": {
        "id": "E3do6B9HNpv9"
      },
      "source": [
        "After downloading and standardizing the folder name, the data will be merged and sorted manually for model training needs. In this Dermnet dataset irrelevant data will be deleted, for example non-skin images and microscopy images. The merged and sorted data can be accessed at the following [link](https://)."
      ]
    },
    {
      "attachments": {},
      "cell_type": "markdown",
      "metadata": {
        "id": "RX4pngE82BRz"
      },
      "source": [
        "## Split Dataset\n",
        "Split [merged dataset](https://) to train, validation, and test dataset. Data will be stored on Google Drive."
      ]
    },
    {
      "cell_type": "code",
      "execution_count": null,
      "metadata": {
        "colab": {
          "base_uri": "https://localhost:8080/"
        },
        "id": "spK1K6MD2fdb",
        "outputId": "785be421-aa7e-4846-9f7f-ffc52adcdd97"
      },
      "outputs": [],
      "source": [
        "# Data access on google drive\n",
        "from google.colab import drive\n",
        "drive.mount('/content/drive')"
      ]
    },
    {
      "cell_type": "code",
      "execution_count": null,
      "metadata": {
        "id": "XoPefx3M2BRz"
      },
      "outputs": [],
      "source": [
        "# Define directory\n",
        "# source_path is the path where source data is fetched\n",
        "source_path = \"/content/drive/MyDrive/Colab Notebooks/merged-sorted-dermnet\"\n",
        "# Data from source_path will be separated and stored in root_dir\n",
        "root_dir = './dermnet-image-for-train'"
      ]
    },
    {
      "cell_type": "code",
      "execution_count": null,
      "metadata": {
        "colab": {
          "base_uri": "https://localhost:8080/",
          "height": 218
        },
        "id": "7PP-REZN2BRz",
        "outputId": "c6a84c00-3a47-4319-f95b-303f47fa8097"
      },
      "outputs": [],
      "source": [
        "# From Dermnet dataset, 10 skin diseases were selected to make the model machine learning.\n",
        "# Those are acne-and-rosacea, bullous-disease, eczema,\n",
        "# melanoma-skin-cancer-nevi-and-moles,\n",
        "# scabies-lyme-disease-and-other-infestations-and-bites,\n",
        "# tinea-ringworm-candidiasis-and-other-fungal-infections, urticaria-hives,\n",
        "# vascular-tumors, vasculitis, warts-molluscum-and-other-viral-infections\n",
        "skin_type_desease = [\n",
        "    'acne-and-rosacea',\n",
        "    'bullous-disease',\n",
        "    'eczema',\n",
        "    'melanoma-skin-cancer-nevi-and-moles',\n",
        "    'scabies-lyme-disease-and-other-infestations-and-bites',\n",
        "    'tinea-ringworm-candidiasis-and-other-fungal-infections',\n",
        "    'urticaria-hives',\n",
        "    'vascular-tumors',\n",
        "    'vasculitis',\n",
        "    'warts-molluscum-and-other-viral-infections',\n",
        "    ]\n",
        "\n",
        "# n is many of types of skin desease\n",
        "n = len(skin_type)\n",
        "print(\"Many of types of skin desease:\", n)"
      ]
    },
    {
      "cell_type": "code",
      "execution_count": null,
      "metadata": {
        "colab": {
          "base_uri": "https://localhost:8080/",
          "height": 252
        },
        "id": "EsM_8Sf42BRz",
        "outputId": "09f00d20-37a7-40f5-cee4-e71d3e112a33"
      },
      "outputs": [],
      "source": [
        "# Deletes all non-image files\n",
        "!find ./merged-sorted-dermnet/ -type f ! -name \"*.jpg\" -exec rm {} +\n",
        "\n",
        "# Check how many pictures are in the folder\n",
        "for fn in skin_type:\n",
        "    source_path_skin = os.path.join(source_path, fn)\n",
        "    print(f\"There are {len(os.listdir(source_path_skin))} images of {fn}.\")"
      ]
    },
    {
      "cell_type": "code",
      "execution_count": null,
      "metadata": {
        "id": "Z7tb7cCV2BRz"
      },
      "outputs": [],
      "source": [
        "# Empty directory to prevent FileExistsError is the function is run several times\n",
        "if os.path.exists(root_dir):\n",
        "    shutil.rmtree(root_dir)"
      ]
    },
    {
      "cell_type": "code",
      "execution_count": null,
      "metadata": {
        "id": "pTJyLLUy2BRz"
      },
      "outputs": [],
      "source": [
        "# Create train and validation folder\n",
        "def create_train_val_dirs(root_path, type_distribution):\n",
        "  train_dir = os.path.join(root_path, 'train')\n",
        "  validation_dir = os.path.join(root_path, 'validation')\n",
        "  test_dir = os.path.join(root_path, 'test')\n",
        "\n",
        "  # Create train's folder\n",
        "  for fn in type_distribution:\n",
        "    train_type_distribution_dir = os.path.join(train_dir, fn)\n",
        "    os.makedirs(train_type_distribution_dir)\n",
        "\n",
        "  # Create validation's folder\n",
        "  for fn in type_distribution:\n",
        "    validation_type_distribution_dir = os.path.join(validation_dir, fn)\n",
        "    os.makedirs(validation_type_distribution_dir)\n",
        "\n",
        "  # Create test's folder\n",
        "  for fn in type_distribution:\n",
        "    test_type_distribution_dir = os.path.join(test_dir, fn)\n",
        "    os.makedirs(test_type_distribution_dir)\n"
      ]
    },
    {
      "cell_type": "code",
      "execution_count": null,
      "metadata": {
        "colab": {
          "base_uri": "https://localhost:8080/"
        },
        "id": "HIMOG3lD2BRz",
        "outputId": "20f447f7-3a61-4657-f4c1-c034d1b54701"
      },
      "outputs": [],
      "source": [
        "# Test create_train_val_dirs function\n",
        "try:\n",
        "  create_train_val_dirs(root_path=root_dir, type_distribution=skin_type)\n",
        "except FileExistsError:\n",
        "  print(\"You should not be seeing this since the upper directory is removed beforehand\")\n",
        "\n",
        "for rootdir, dirs, files in os.walk(root_dir):\n",
        "    for subdir in dirs:\n",
        "        print(os.path.join(rootdir, subdir))"
      ]
    },
    {
      "cell_type": "code",
      "execution_count": null,
      "metadata": {
        "id": "9DeYHZGU2BRz"
      },
      "outputs": [],
      "source": [
        "# Split source data to training and validation data\n",
        "def split_data(SOURCE_DIR, TRAINING_DIR, VALIDATION_DIR, TEST_DIR, SPLIT_SIZE):\n",
        "  files = []\n",
        "  for fn in os.listdir(SOURCE_DIR):\n",
        "    file_path = os.path.join(SOURCE_DIR, fn)\n",
        "\n",
        "    if os.path.getsize(file_path):\n",
        "      files.append(fn)\n",
        "    else:\n",
        "      print(f\"{fn} is zero length, so ignoring.\")\n",
        "\n",
        "  file_size = len(files)\n",
        "\n",
        "  split_point_1 = int(file_size * SPLIT_SIZE[0])\n",
        "  split_point_2 = int(file_size * SPLIT_SIZE[1]) + split_point_1\n",
        "\n",
        "  shuffled = random.sample(files, file_size)\n",
        "\n",
        "  train_set = shuffled[:split_point_1]\n",
        "  validation_set = shuffled[split_point_1:split_point_2]\n",
        "  test_set = shuffled[split_point_2:]\n",
        "\n",
        "  for fn in train_set:\n",
        "    copyfile(os.path.join(SOURCE_DIR, fn), os.path.join(TRAINING_DIR, fn))\n",
        "\n",
        "  for fn in validation_set:\n",
        "    copyfile(os.path.join(SOURCE_DIR, fn), os.path.join(VALIDATION_DIR, fn))\n",
        "\n",
        "  for fn in test_set:\n",
        "    copyfile(os.path.join(SOURCE_DIR, fn), os.path.join(TEST_DIR, fn))\n"
      ]
    },
    {
      "cell_type": "code",
      "execution_count": null,
      "metadata": {
        "id": "xWdzicV1a9op"
      },
      "outputs": [],
      "source": [
        "# Process split skin desease data\n",
        "# Define training and validation root\n",
        "TRAINING_DIR = os.path.join(root_dir, \"train\")\n",
        "VALIDATION_DIR = os.path.join(root_dir, \"validation\")\n",
        "TEST_DIR = os.path.join(root_dir, \"test\")"
      ]
    },
    {
      "cell_type": "code",
      "execution_count": null,
      "metadata": {
        "colab": {
          "base_uri": "https://localhost:8080/"
        },
        "id": "3i145JtX2BRz",
        "outputId": "bdb46d40-a5fb-4ed2-fad1-89c099069836"
      },
      "outputs": [],
      "source": [
        "# List of all skin disease source directory\n",
        "SKIN_TYPE_DIR_SOURCE = []\n",
        "# List of all skin disease training directory\n",
        "SKIN_TYPE_DIR_TRAINING = []\n",
        "# List of all skin disease calidation directory\n",
        "SKIN_TYPE_DIR_VALIDATION = []\n",
        "# List of all skin disease test directory\n",
        "SKIN_TYPE_DIR_TEST = []\n",
        "\n",
        "# Append list of SKIN_TYPE_DIR_SOURCE, SKIN_TYPE_DIR_TRAINING, SKIN_TYPE_DIR_VALIDATION\n",
        "for fn in skin_type:\n",
        "  SKIN_SOURCE_DIR = f\"{source_path}/{fn}\"\n",
        "  SKIN_TYPE_DIR_SOURCE.append(SKIN_SOURCE_DIR)\n",
        "\n",
        "  TRAINING_SKIN_DIR = os.path.join(TRAINING_DIR, fn)\n",
        "  SKIN_TYPE_DIR_TRAINING.append(TRAINING_SKIN_DIR)\n",
        "\n",
        "  VALIDATION_SKIN_DIR = os.path.join(VALIDATION_DIR, fn)\n",
        "  SKIN_TYPE_DIR_VALIDATION.append(VALIDATION_SKIN_DIR)\n",
        "\n",
        "  TEST_SKIN_DIR = os.path.join(TEST_DIR, fn)\n",
        "  SKIN_TYPE_DIR_TEST.append(TEST_SKIN_DIR)\n",
        "\n",
        "# Empty directories in case this cell run multiple times\n",
        "for fn in SKIN_TYPE_DIR_TRAINING:\n",
        "  if len(os.listdir(fn)) > 0:\n",
        "    for file in os.scandir(fn):\n",
        "      os.remove(file.path)\n",
        "\n",
        "for fn in SKIN_TYPE_DIR_VALIDATION:\n",
        "  if len(os.listdir(fn)) > 0:\n",
        "    for file in os.scandir(fn):\n",
        "      os.remove(file.path)\n",
        "\n",
        "for fn in SKIN_TYPE_DIR_TEST:\n",
        "  if len(os.listdir(fn)) > 0:\n",
        "    for file in os.scandir(fn):\n",
        "      os.remove(file.path)\n",
        "\n",
        "# Define proportion of images used for training, validation, and test\n",
        "# (training proportion, validation proportion), remainder is test set\n",
        "split_size = (.8, .15) # 80% for training, 15% for validation, and rest 5% for test\n",
        "\n",
        "# Split from source folder to training and validation folder\n",
        "for i in range(len(skin_type)):\n",
        "  TMP_SOURCE_DIR = SKIN_TYPE_DIR_SOURCE[i]\n",
        "  TMP_TRAINING_DIR = SKIN_TYPE_DIR_TRAINING[i]\n",
        "  TMP_VALIDATION_DIR = SKIN_TYPE_DIR_VALIDATION[i]\n",
        "  TMP_TEST_DIR = SKIN_TYPE_DIR_TEST[i]\n",
        "\n",
        "  split_data(TMP_SOURCE_DIR, TMP_TRAINING_DIR, TMP_VALIDATION_DIR, TMP_TEST_DIR, split_size)\n",
        "\n",
        "# Check that the number of images matches the expected output\n",
        "print(\"The number of images in folder Original -> Training, Validation, Test\")\n",
        "for i in range(len(skin_type)):\n",
        "  print(f\"{skin_type[i]} : {len(os.listdir(SKIN_TYPE_DIR_SOURCE[i]))} -> {len(os.listdir(SKIN_TYPE_DIR_TRAINING[i]))}, {len(os.listdir(SKIN_TYPE_DIR_VALIDATION[i]))}, {len(os.listdir(SKIN_TYPE_DIR_TEST[i]))}\")"
      ]
    },
    {
      "attachments": {},
      "cell_type": "markdown",
      "metadata": {
        "id": "ppGUe6oNOFyk"
      },
      "source": [
        "## Create Model"
      ]
    },
    {
      "cell_type": "code",
      "execution_count": null,
      "metadata": {
        "id": "jjllFtccQhzp"
      },
      "outputs": [],
      "source": [
        "# Define batch size\n",
        "BATCH_SIZE = 32"
      ]
    },
    {
      "attachments": {},
      "cell_type": "markdown",
      "metadata": {
        "id": "wod4uHsaTxUu"
      },
      "source": [
        "### Image Augmentation"
      ]
    },
    {
      "cell_type": "code",
      "execution_count": null,
      "metadata": {
        "colab": {
          "base_uri": "https://localhost:8080/"
        },
        "id": "HtTJeD4RQx-o",
        "outputId": "120e2d3e-88ef-4f50-b286-42e084e52339"
      },
      "outputs": [],
      "source": [
        "# Creates the training and validation data generators\n",
        "train_datagen = ImageDataGenerator(rescale = 1.0/255.,\n",
        "                                   rotation_range = 40,\n",
        "                                   zoom_range = 0.2,\n",
        "                                   width_shift_range = 0.2,\n",
        "                                   height_shift_range = 0.2,\n",
        "                                   horizontal_flip = True,\n",
        "                                   vertical_flip = True,\n",
        "                                   )\n",
        "train_generator = train_datagen.flow_from_directory(directory=TRAINING_DIR,\n",
        "                                                      batch_size=BATCH_SIZE,\n",
        "                                                      class_mode='categorical',\n",
        "                                                      target_size=(150, 150)\n",
        "                                                      )\n",
        "\n",
        "validation_datagen = ImageDataGenerator(rescale = 1.0/255.,\n",
        "                                        rotation_range = 40,\n",
        "                                        zoom_range = 0.2,\n",
        "                                        width_shift_range = 0.2,\n",
        "                                        height_shift_range = 0.2,\n",
        "                                        horizontal_flip = True,\n",
        "                                        vertical_flip = True,\n",
        "                                        )\n",
        "validation_generator = validation_datagen.flow_from_directory(directory=TEST_DIR,\n",
        "                                                              batch_size=BATCH_SIZE,\n",
        "                                                              class_mode='categorical',\n",
        "                                                              target_size=(150, 150)\n",
        "                                                              )"
      ]
    },
    {
      "cell_type": "code",
      "execution_count": null,
      "metadata": {
        "id": "nPbEXDovQ-BI"
      },
      "outputs": [],
      "source": [
        "# Define step size for train and validation\n",
        "STEP_SIZE_TRAIN = (train_generator.n // train_generator.batch_size)\n",
        "STEP_SIZE_VALID = (validation_generator.n // validation_generator.batch_size)"
      ]
    },
    {
      "attachments": {},
      "cell_type": "markdown",
      "metadata": {
        "id": "dWihQ4beslGZ"
      },
      "source": [
        "### Import Transfer Learning InceptionV3\n",
        "\n"
      ]
    },
    {
      "cell_type": "code",
      "execution_count": null,
      "metadata": {
        "colab": {
          "base_uri": "https://localhost:8080/"
        },
        "id": "zoyOt9d3JZgO",
        "outputId": "33e072c0-7420-40f6-893d-fe19d11898fe"
      },
      "outputs": [],
      "source": [
        "# Download the pre-trained weights. No top means it excludes the fully connected layer it uses for classification.\n",
        "!wget --no-check-certificate \\\n",
        "    https://storage.googleapis.com/mledu-datasets/inception_v3_weights_tf_dim_ordering_tf_kernels_notop.h5 \\\n",
        "    -O /tmp/inception_v3_weights_tf_dim_ordering_tf_kernels_notop.h5"
      ]
    },
    {
      "cell_type": "code",
      "execution_count": null,
      "metadata": {
        "id": "99yt0elYSD54"
      },
      "outputs": [],
      "source": [
        "from tensorflow.keras.applications.inception_v3 import InceptionV3\n",
        "from tensorflow.keras import layers\n",
        "\n",
        "# Set the downloaded weights file into a variable\n",
        "local_weights_file = '/tmp/inception_v3_weights_tf_dim_ordering_tf_kernels_notop.h5'\n",
        "\n",
        "# Initialize the base model.\n",
        "# Set the input shape and remove the dense layers.\n",
        "pre_trained_model = InceptionV3(input_shape = (150, 150, 3),\n",
        "                                include_top = False,\n",
        "                                weights = None)\n",
        "\n",
        "# Load the pre-trained weights you downloaded.\n",
        "pre_trained_model.load_weights(local_weights_file)\n",
        "\n",
        "# Freeze the weights of the layers.\n",
        "for layer in pre_trained_model.layers:\n",
        "  layer.trainable = False"
      ]
    },
    {
      "cell_type": "code",
      "execution_count": null,
      "metadata": {
        "colab": {
          "base_uri": "https://localhost:8080/"
        },
        "id": "KOH4qx3SJkVY",
        "outputId": "748322cf-6ac3-4b3f-da7e-19d3d628e29f"
      },
      "outputs": [],
      "source": [
        "# Choose `mixed_7` as the last layer of base model\n",
        "last_layer = pre_trained_model.get_layer('mixed7')\n",
        "print('last layer output shape: ', last_layer.output_shape)\n",
        "last_output = last_layer.output"
      ]
    },
    {
      "attachments": {},
      "cell_type": "markdown",
      "metadata": {
        "id": "bA-ohWQ2UEAh"
      },
      "source": [
        "### Define Model And Train Model"
      ]
    },
    {
      "cell_type": "code",
      "execution_count": null,
      "metadata": {
        "id": "hDBO1cx8JrlN"
      },
      "outputs": [],
      "source": [
        "from tensorflow.keras import Model\n",
        "\n",
        "# Flatten the output layer to 1 dimension\n",
        "x = layers.Flatten()(last_output)\n",
        "x = layers.Dense(128, activation='relu')(x)\n",
        "x = layers.Dense(256, activation='relu')(x)\n",
        "x = layers.Dense(512, activation='relu')(x)\n",
        "x = layers.Dropout(0.2)(x)\n",
        "x = layers.Dense(n, activation='softmax')(x)\n",
        "\n",
        "# Append the dense network to the base model\n",
        "model = Model(pre_trained_model.input, x)\n",
        "\n",
        "# Print the model summary. See dense network connected at the end.\n",
        "model.summary()"
      ]
    },
    {
      "cell_type": "code",
      "execution_count": null,
      "metadata": {
        "id": "Gs2mt7K32n36"
      },
      "outputs": [],
      "source": [
        "# Config the model with optimizer, losses, and metrics\n",
        "model.compile(\n",
        "    optimizer = tf.keras.optimizers.RMSprop(learning_rate=0.0001),\n",
        "    loss = \"categorical_crossentropy\",\n",
        "    metrics = ['acc']\n",
        "    )"
      ]
    },
    {
      "cell_type": "code",
      "execution_count": null,
      "metadata": {
        "colab": {
          "base_uri": "https://localhost:8080/",
          "height": 235
        },
        "id": "Ico8C9A-2Vmd",
        "outputId": "3aabfdbf-1572-4668-86fe-a8536d01cf08"
      },
      "outputs": [],
      "source": [
        "# Train the model\n",
        "# It can reach loss: 0.6811 - acc: 0.7690 - val_loss: 1.4539 - val_acc: 0.6322 in 8 × 15 epochs\n",
        "history = model.fit(\n",
        "    train_generator,\n",
        "    validation_data = validation_generator,\n",
        "    steps_per_epoch = STEP_SIZE_TRAIN,\n",
        "    epochs = 15,\n",
        "    validation_steps = STEP_SIZE_VALID,\n",
        "    )"
      ]
    },
    {
      "attachments": {},
      "cell_type": "markdown",
      "metadata": {
        "id": "-MuSsaC3U8DS"
      },
      "source": [
        "### Plot Training Accuracy and Lose"
      ]
    },
    {
      "cell_type": "code",
      "execution_count": null,
      "metadata": {
        "id": "p9zUrh5c2BR0"
      },
      "outputs": [],
      "source": [
        "# Plot result training and validation data\n",
        "\n",
        "# Retrieve a list of list results on training and test data sets for each training epoch\n",
        "def plot_acc_loss(history_model, metric):\n",
        "    if metric == \"acc\":\n",
        "        acc = history_model.history['acc']\n",
        "        val_acc = history_model.history['val_acc']\n",
        "    elif metric == \"accuracy\":\n",
        "        acc = history_model.history['accuracy']\n",
        "        val_acc = history_model.history['val_accuracy']\n",
        "\n",
        "    loss = history_model.history['loss']\n",
        "    val_loss = history_model.history['val_loss']\n",
        "\n",
        "    epochs = range(len(acc)) # Get number of epochs\n",
        "\n",
        "    # Plot training and validation accuracy per epoch\n",
        "    plt.plot(epochs, acc, 'r', label=\"Training Accuracy\")\n",
        "    plt.plot(epochs, val_acc, 'b', label=\"Validation Accuracy\")\n",
        "    plt.title('Training and validation accuracy')\n",
        "    plt.xlabel('Epochs')\n",
        "    plt.ylabel('Accuracy')\n",
        "    plt.legend()\n",
        "    plt.show()\n",
        "\n",
        "    # Plot training and validation loss per epoch\n",
        "    plt.plot(epochs, loss, 'r', label=\"Training Loss\")\n",
        "    plt.plot(epochs, val_loss, 'b', label=\"Validation Loss\")\n",
        "    plt.xlabel('Epochs')\n",
        "    plt.ylabel('Loss')\n",
        "    plt.legend()\n",
        "    plt.show()"
      ]
    },
    {
      "cell_type": "code",
      "execution_count": null,
      "metadata": {
        "colab": {
          "base_uri": "https://localhost:8080/",
          "height": 904
        },
        "id": "lLDVLvAO2BR4",
        "outputId": "4866e326-0b25-4d56-813c-b0b287b1e48d"
      },
      "outputs": [],
      "source": [
        "plot_acc_loss(history, \"acc\")"
      ]
    },
    {
      "attachments": {},
      "cell_type": "markdown",
      "metadata": {
        "id": "YaTERcckvKn0"
      },
      "source": [
        "## Export Model\n",
        "After the model is trained, save the model"
      ]
    },
    {
      "cell_type": "code",
      "execution_count": null,
      "metadata": {
        "colab": {
          "base_uri": "https://localhost:8080/"
        },
        "id": "QXM2ouBGRaI3",
        "outputId": "cfb4a16e-71fd-4af6-c958-0620e892053c"
      },
      "outputs": [],
      "source": [
        "# Export model to SavedModel, HDF5 Format\n",
        "!mkdir -p saved_model\n",
        "model.save('saved_model/ml-aksacarma')"
      ]
    },
    {
      "cell_type": "code",
      "execution_count": null,
      "metadata": {
        "colab": {
          "base_uri": "https://localhost:8080/"
        },
        "id": "JhDpQ07bSAYU",
        "outputId": "dbc6b130-9ed1-4f54-9ced-701501fcb95e"
      },
      "outputs": [],
      "source": [
        "# For Google Colab, run this cell to convert the model to zip and download it\n",
        "from google.colab import files\n",
        "!zip -r savedmodel.zip \"/content/saved_model\"\n",
        "files.download(\"/content/savedmodel.zip\")"
      ]
    },
    {
      "attachments": {},
      "cell_type": "markdown",
      "metadata": {
        "id": "x-zYXctSVfap"
      },
      "source": [
        "## Load Saved Model"
      ]
    },
    {
      "cell_type": "code",
      "execution_count": null,
      "metadata": {
        "colab": {
          "base_uri": "https://localhost:8080/"
        },
        "id": "igDH3mrDSEWN",
        "outputId": "c02df796-ee05-43cf-95f5-c95793dc5eb2"
      },
      "outputs": [],
      "source": [
        "# Load Saved_Model\n",
        "model_path = \"/content/drive/MyDrive/Colab Notebooks/saved_model/ml-aksacarma\"\n",
        "new_model = tf.keras.models.load_model(model_path)\n",
        "new_model.summary()"
      ]
    },
    {
      "cell_type": "code",
      "execution_count": null,
      "metadata": {
        "id": "YbUl9xkYV29M"
      },
      "outputs": [],
      "source": [
        "from keras.preprocessing import image\n",
        "import keras.utils as image\n",
        "import numpy as np\n",
        "\n",
        "# skin_type_desease is thes same as defined at the beginning\n",
        "skin_type_desease = [\n",
        "    'acne and rosacea',\n",
        "    'bullous disease',\n",
        "    'eczema',\n",
        "    'melanoma skin cancer nevi and moles',\n",
        "    'scabies lyme disease and other infestations and bites',\n",
        "    'tinea ringworm candidiasis and other fungal infections',\n",
        "    'urticaria hives',\n",
        "    'vascular tumors',\n",
        "    'vasculitis',\n",
        "    'warts molluscum and other viral infections',\n",
        "    ]"
      ]
    },
    {
      "cell_type": "code",
      "execution_count": null,
      "metadata": {
        "id": "vkwPewF4Wmfz"
      },
      "outputs": [],
      "source": [
        "# Determine class\n",
        "def what_class(arr_prob_class, type_skin_diseases):\n",
        "  # Get class with highest probabilty\n",
        "  index_highest_probability_class  = np.argmax(arr_prob_class)\n",
        "  if arr_prob_class[index_highest_probability_class] < 0.5:\n",
        "    return None\n",
        "\n",
        "  for i in range(len(skin_type_desease)):\n",
        "    if index_highest_probability_class == i:\n",
        "      return skin_type_desease[i]"
      ]
    },
    {
      "cell_type": "code",
      "execution_count": null,
      "metadata": {
        "id": "8oFDSy2xWn57"
      },
      "outputs": [],
      "source": [
        "# Predict skin desease\n",
        "def predict_skin_desease(img_path, new_model, skin_type_desease):\n",
        "    # Convert image for input tensorflow\n",
        "    img = image.load_img(img_path, target_size=(150, 150))\n",
        "    imgplot = plt.imshow(img)\n",
        "    x = image.img_to_array(img)\n",
        "    x = np.expand_dims(x, axis=0)\n",
        "    x = x / 255.0  # Normalize image\n",
        "\n",
        "    # Predict image\n",
        "    predictions = new_model.predict(x)\n",
        "    return what_class(predictions[0], skin_type_desease)"
      ]
    },
    {
      "cell_type": "code",
      "execution_count": null,
      "metadata": {
        "colab": {
          "base_uri": "https://localhost:8080/",
          "height": 469
        },
        "id": "T2r9TiofWqtk",
        "outputId": "62ec65d4-24c8-4466-fb4b-bd9e4e25258d"
      },
      "outputs": [],
      "source": [
        "# Get image that want to predict\n",
        "path = \"/content/drive/MyDrive/Colab Notebooks/dermnet-image-for-train/test/warts-molluscum-and-other-viral-infections/corns-36.jpg\"\n",
        "print(predict_skin_desease(path, new_model ,skin_type_desease))"
      ]
    }
  ],
  "metadata": {
    "accelerator": "GPU",
    "colab": {
      "provenance": [],
      "toc_visible": true
    },
    "kernelspec": {
      "display_name": "Python 3",
      "name": "python3"
    },
    "language_info": {
      "codemirror_mode": {
        "name": "ipython",
        "version": 3
      },
      "file_extension": ".py",
      "mimetype": "text/x-python",
      "name": "python",
      "nbconvert_exporter": "python",
      "pygments_lexer": "ipython3",
      "version": "3.8.16"
    }
  },
  "nbformat": 4,
  "nbformat_minor": 0
}
